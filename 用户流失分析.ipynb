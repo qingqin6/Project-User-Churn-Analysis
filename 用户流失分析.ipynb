{
 "cells": [
  {
   "cell_type": "markdown",
   "metadata": {},
   "source": [
    "# 用户流失分析与预测"
   ]
  },
  {
   "cell_type": "markdown",
   "metadata": {},
   "source": [
    "## 数据预处理\n",
    "### 导入数据"
   ]
  },
  {
   "cell_type": "code",
   "execution_count": 72,
   "metadata": {},
   "outputs": [],
   "source": [
    "import pandas as pd\n",
    "import numpy as np\n",
    "import matplotlib.pyplot as plt\n",
    "import seaborn as sns\n",
    "from imblearn.over_sampling import SMOTE\n",
    "from sklearn.model_selection import train_test_split\n",
    "from sklearn.tree import  DecisionTreeClassifier\n",
    "from sklearn.linear_model import LogisticRegression\n",
    "from sklearn.neighbors import KNeighborsClassifier \n",
    "from sklearn.ensemble import RandomForestClassifier\n",
    "from sklearn.metrics import precision_score\n",
    "from sklearn.metrics import accuracy_score\n",
    "from sklearn.metrics import classification_report\n",
    "from sklearn.model_selection import learning_curve\n",
    "from sklearn.model_selection import GridSearchCV\n",
    "from sklearn.metrics import f1_score\n",
    "%matplotlib inline "
   ]
  },
  {
   "cell_type": "code",
   "execution_count": 68,
   "metadata": {},
   "outputs": [
    {
     "data": {
      "text/html": [
       "<div>\n",
       "<style scoped>\n",
       "    .dataframe tbody tr th:only-of-type {\n",
       "        vertical-align: middle;\n",
       "    }\n",
       "\n",
       "    .dataframe tbody tr th {\n",
       "        vertical-align: top;\n",
       "    }\n",
       "\n",
       "    .dataframe thead th {\n",
       "        text-align: right;\n",
       "    }\n",
       "</style>\n",
       "<table border=\"1\" class=\"dataframe\">\n",
       "  <thead>\n",
       "    <tr style=\"text-align: right;\">\n",
       "      <th></th>\n",
       "      <th>customerID</th>\n",
       "      <th>gender</th>\n",
       "      <th>SeniorCitizen</th>\n",
       "      <th>Partner</th>\n",
       "      <th>Dependents</th>\n",
       "      <th>tenure</th>\n",
       "      <th>PhoneService</th>\n",
       "      <th>MultipleLines</th>\n",
       "      <th>InternetService</th>\n",
       "      <th>OnlineSecurity</th>\n",
       "      <th>OnlineBackup</th>\n",
       "      <th>DeviceProtection</th>\n",
       "      <th>TechSupport</th>\n",
       "      <th>StreamingTV</th>\n",
       "      <th>StreamingMovies</th>\n",
       "      <th>Contract</th>\n",
       "      <th>PaperlessBilling</th>\n",
       "      <th>PaymentMethod</th>\n",
       "      <th>MonthlyCharges</th>\n",
       "      <th>TotalCharges</th>\n",
       "      <th>Churn</th>\n",
       "    </tr>\n",
       "  </thead>\n",
       "  <tbody>\n",
       "    <tr>\n",
       "      <th>0</th>\n",
       "      <td>7590-VHVEG</td>\n",
       "      <td>Female</td>\n",
       "      <td>0</td>\n",
       "      <td>Yes</td>\n",
       "      <td>No</td>\n",
       "      <td>1</td>\n",
       "      <td>No</td>\n",
       "      <td>No phone service</td>\n",
       "      <td>DSL</td>\n",
       "      <td>No</td>\n",
       "      <td>Yes</td>\n",
       "      <td>No</td>\n",
       "      <td>No</td>\n",
       "      <td>No</td>\n",
       "      <td>No</td>\n",
       "      <td>Month-to-month</td>\n",
       "      <td>Yes</td>\n",
       "      <td>Electronic check</td>\n",
       "      <td>29.85</td>\n",
       "      <td>29.85</td>\n",
       "      <td>No</td>\n",
       "    </tr>\n",
       "    <tr>\n",
       "      <th>1</th>\n",
       "      <td>5575-GNVDE</td>\n",
       "      <td>Male</td>\n",
       "      <td>0</td>\n",
       "      <td>No</td>\n",
       "      <td>No</td>\n",
       "      <td>34</td>\n",
       "      <td>Yes</td>\n",
       "      <td>No</td>\n",
       "      <td>DSL</td>\n",
       "      <td>Yes</td>\n",
       "      <td>No</td>\n",
       "      <td>Yes</td>\n",
       "      <td>No</td>\n",
       "      <td>No</td>\n",
       "      <td>No</td>\n",
       "      <td>One year</td>\n",
       "      <td>No</td>\n",
       "      <td>Mailed check</td>\n",
       "      <td>56.95</td>\n",
       "      <td>1889.5</td>\n",
       "      <td>No</td>\n",
       "    </tr>\n",
       "    <tr>\n",
       "      <th>2</th>\n",
       "      <td>3668-QPYBK</td>\n",
       "      <td>Male</td>\n",
       "      <td>0</td>\n",
       "      <td>No</td>\n",
       "      <td>No</td>\n",
       "      <td>2</td>\n",
       "      <td>Yes</td>\n",
       "      <td>No</td>\n",
       "      <td>DSL</td>\n",
       "      <td>Yes</td>\n",
       "      <td>Yes</td>\n",
       "      <td>No</td>\n",
       "      <td>No</td>\n",
       "      <td>No</td>\n",
       "      <td>No</td>\n",
       "      <td>Month-to-month</td>\n",
       "      <td>Yes</td>\n",
       "      <td>Mailed check</td>\n",
       "      <td>53.85</td>\n",
       "      <td>108.15</td>\n",
       "      <td>Yes</td>\n",
       "    </tr>\n",
       "    <tr>\n",
       "      <th>3</th>\n",
       "      <td>7795-CFOCW</td>\n",
       "      <td>Male</td>\n",
       "      <td>0</td>\n",
       "      <td>No</td>\n",
       "      <td>No</td>\n",
       "      <td>45</td>\n",
       "      <td>No</td>\n",
       "      <td>No phone service</td>\n",
       "      <td>DSL</td>\n",
       "      <td>Yes</td>\n",
       "      <td>No</td>\n",
       "      <td>Yes</td>\n",
       "      <td>Yes</td>\n",
       "      <td>No</td>\n",
       "      <td>No</td>\n",
       "      <td>One year</td>\n",
       "      <td>No</td>\n",
       "      <td>Bank transfer (automatic)</td>\n",
       "      <td>42.30</td>\n",
       "      <td>1840.75</td>\n",
       "      <td>No</td>\n",
       "    </tr>\n",
       "    <tr>\n",
       "      <th>4</th>\n",
       "      <td>9237-HQITU</td>\n",
       "      <td>Female</td>\n",
       "      <td>0</td>\n",
       "      <td>No</td>\n",
       "      <td>No</td>\n",
       "      <td>2</td>\n",
       "      <td>Yes</td>\n",
       "      <td>No</td>\n",
       "      <td>Fiber optic</td>\n",
       "      <td>No</td>\n",
       "      <td>No</td>\n",
       "      <td>No</td>\n",
       "      <td>No</td>\n",
       "      <td>No</td>\n",
       "      <td>No</td>\n",
       "      <td>Month-to-month</td>\n",
       "      <td>Yes</td>\n",
       "      <td>Electronic check</td>\n",
       "      <td>70.70</td>\n",
       "      <td>151.65</td>\n",
       "      <td>Yes</td>\n",
       "    </tr>\n",
       "  </tbody>\n",
       "</table>\n",
       "</div>"
      ],
      "text/plain": [
       "   customerID  gender  SeniorCitizen Partner Dependents  tenure PhoneService  \\\n",
       "0  7590-VHVEG  Female              0     Yes         No       1           No   \n",
       "1  5575-GNVDE    Male              0      No         No      34          Yes   \n",
       "2  3668-QPYBK    Male              0      No         No       2          Yes   \n",
       "3  7795-CFOCW    Male              0      No         No      45           No   \n",
       "4  9237-HQITU  Female              0      No         No       2          Yes   \n",
       "\n",
       "      MultipleLines InternetService OnlineSecurity OnlineBackup  \\\n",
       "0  No phone service             DSL             No          Yes   \n",
       "1                No             DSL            Yes           No   \n",
       "2                No             DSL            Yes          Yes   \n",
       "3  No phone service             DSL            Yes           No   \n",
       "4                No     Fiber optic             No           No   \n",
       "\n",
       "  DeviceProtection TechSupport StreamingTV StreamingMovies        Contract  \\\n",
       "0               No          No          No              No  Month-to-month   \n",
       "1              Yes          No          No              No        One year   \n",
       "2               No          No          No              No  Month-to-month   \n",
       "3              Yes         Yes          No              No        One year   \n",
       "4               No          No          No              No  Month-to-month   \n",
       "\n",
       "  PaperlessBilling              PaymentMethod  MonthlyCharges TotalCharges  \\\n",
       "0              Yes           Electronic check           29.85        29.85   \n",
       "1               No               Mailed check           56.95       1889.5   \n",
       "2              Yes               Mailed check           53.85       108.15   \n",
       "3               No  Bank transfer (automatic)           42.30      1840.75   \n",
       "4              Yes           Electronic check           70.70       151.65   \n",
       "\n",
       "  Churn  \n",
       "0    No  \n",
       "1    No  \n",
       "2   Yes  \n",
       "3    No  \n",
       "4   Yes  "
      ]
     },
     "execution_count": 68,
     "metadata": {},
     "output_type": "execute_result"
    }
   ],
   "source": [
    "data=pd.read_csv('WA_Fn-UseC_-Telco-Customer-Churn.csv')\n",
    "#设置显示所有的列\n",
    "pd.set_option('display.max_columns',None)\n",
    "#设置显示所有的行\n",
    "# pd.set_option('display.max_rows',None)\n",
    "data.head()"
   ]
  },
  {
   "cell_type": "code",
   "execution_count": 3,
   "metadata": {},
   "outputs": [
    {
     "name": "stdout",
     "output_type": "stream",
     "text": [
      "<class 'pandas.core.frame.DataFrame'>\n",
      "RangeIndex: 7043 entries, 0 to 7042\n",
      "Data columns (total 21 columns):\n",
      "customerID          7043 non-null object\n",
      "gender              7043 non-null object\n",
      "SeniorCitizen       7043 non-null int64\n",
      "Partner             7043 non-null object\n",
      "Dependents          7043 non-null object\n",
      "tenure              7043 non-null int64\n",
      "PhoneService        7043 non-null object\n",
      "MultipleLines       7043 non-null object\n",
      "InternetService     7043 non-null object\n",
      "OnlineSecurity      7043 non-null object\n",
      "OnlineBackup        7043 non-null object\n",
      "DeviceProtection    7043 non-null object\n",
      "TechSupport         7043 non-null object\n",
      "StreamingTV         7043 non-null object\n",
      "StreamingMovies     7043 non-null object\n",
      "Contract            7043 non-null object\n",
      "PaperlessBilling    7043 non-null object\n",
      "PaymentMethod       7043 non-null object\n",
      "MonthlyCharges      7043 non-null float64\n",
      "TotalCharges        7043 non-null object\n",
      "Churn               7043 non-null object\n",
      "dtypes: float64(1), int64(2), object(18)\n",
      "memory usage: 1.1+ MB\n"
     ]
    }
   ],
   "source": [
    "data.info()"
   ]
  },
  {
   "cell_type": "markdown",
   "metadata": {},
   "source": [
    "可以看出，数据共有7043条记录，21个字段，数据类型主要包含object字符串、int64数值类型、float64浮点类型。其中TotalCharges数据类型是字符串，应该转化成浮点类型。"
   ]
  },
  {
   "cell_type": "markdown",
   "metadata": {},
   "source": [
    "### 数据转换"
   ]
  },
  {
   "cell_type": "code",
   "execution_count": 5,
   "metadata": {},
   "outputs": [
    {
     "data": {
      "text/html": [
       "<div>\n",
       "<style scoped>\n",
       "    .dataframe tbody tr th:only-of-type {\n",
       "        vertical-align: middle;\n",
       "    }\n",
       "\n",
       "    .dataframe tbody tr th {\n",
       "        vertical-align: top;\n",
       "    }\n",
       "\n",
       "    .dataframe thead th {\n",
       "        text-align: right;\n",
       "    }\n",
       "</style>\n",
       "<table border=\"1\" class=\"dataframe\">\n",
       "  <thead>\n",
       "    <tr style=\"text-align: right;\">\n",
       "      <th></th>\n",
       "      <th>用户ID</th>\n",
       "      <th>性别</th>\n",
       "      <th>老年人</th>\n",
       "      <th>是否有配偶</th>\n",
       "      <th>是否经济独立</th>\n",
       "      <th>客户的入网时间</th>\n",
       "      <th>是否开通电话服务业务</th>\n",
       "      <th>是否开通了多线业务</th>\n",
       "      <th>是否开通互联网服务</th>\n",
       "      <th>是否开通网络安全服务</th>\n",
       "      <th>是否开通在线备份业务</th>\n",
       "      <th>是否开通了设备保护业务</th>\n",
       "      <th>是否开通了技术支持服务</th>\n",
       "      <th>是否开通网络电视</th>\n",
       "      <th>是否开通网络电影</th>\n",
       "      <th>签订合同年限</th>\n",
       "      <th>是否开通电子账单</th>\n",
       "      <th>付款方式</th>\n",
       "      <th>月费用</th>\n",
       "      <th>总费用</th>\n",
       "      <th>该用户是否流失</th>\n",
       "    </tr>\n",
       "  </thead>\n",
       "  <tbody>\n",
       "    <tr>\n",
       "      <th>0</th>\n",
       "      <td>7590-VHVEG</td>\n",
       "      <td>Female</td>\n",
       "      <td>0</td>\n",
       "      <td>Yes</td>\n",
       "      <td>No</td>\n",
       "      <td>1</td>\n",
       "      <td>No</td>\n",
       "      <td>No phone service</td>\n",
       "      <td>DSL</td>\n",
       "      <td>No</td>\n",
       "      <td>Yes</td>\n",
       "      <td>No</td>\n",
       "      <td>No</td>\n",
       "      <td>No</td>\n",
       "      <td>No</td>\n",
       "      <td>Month-to-month</td>\n",
       "      <td>Yes</td>\n",
       "      <td>Electronic check</td>\n",
       "      <td>29.85</td>\n",
       "      <td>29.85</td>\n",
       "      <td>No</td>\n",
       "    </tr>\n",
       "    <tr>\n",
       "      <th>1</th>\n",
       "      <td>5575-GNVDE</td>\n",
       "      <td>Male</td>\n",
       "      <td>0</td>\n",
       "      <td>No</td>\n",
       "      <td>No</td>\n",
       "      <td>34</td>\n",
       "      <td>Yes</td>\n",
       "      <td>No</td>\n",
       "      <td>DSL</td>\n",
       "      <td>Yes</td>\n",
       "      <td>No</td>\n",
       "      <td>Yes</td>\n",
       "      <td>No</td>\n",
       "      <td>No</td>\n",
       "      <td>No</td>\n",
       "      <td>One year</td>\n",
       "      <td>No</td>\n",
       "      <td>Mailed check</td>\n",
       "      <td>56.95</td>\n",
       "      <td>1889.5</td>\n",
       "      <td>No</td>\n",
       "    </tr>\n",
       "    <tr>\n",
       "      <th>2</th>\n",
       "      <td>3668-QPYBK</td>\n",
       "      <td>Male</td>\n",
       "      <td>0</td>\n",
       "      <td>No</td>\n",
       "      <td>No</td>\n",
       "      <td>2</td>\n",
       "      <td>Yes</td>\n",
       "      <td>No</td>\n",
       "      <td>DSL</td>\n",
       "      <td>Yes</td>\n",
       "      <td>Yes</td>\n",
       "      <td>No</td>\n",
       "      <td>No</td>\n",
       "      <td>No</td>\n",
       "      <td>No</td>\n",
       "      <td>Month-to-month</td>\n",
       "      <td>Yes</td>\n",
       "      <td>Mailed check</td>\n",
       "      <td>53.85</td>\n",
       "      <td>108.15</td>\n",
       "      <td>Yes</td>\n",
       "    </tr>\n",
       "    <tr>\n",
       "      <th>3</th>\n",
       "      <td>7795-CFOCW</td>\n",
       "      <td>Male</td>\n",
       "      <td>0</td>\n",
       "      <td>No</td>\n",
       "      <td>No</td>\n",
       "      <td>45</td>\n",
       "      <td>No</td>\n",
       "      <td>No phone service</td>\n",
       "      <td>DSL</td>\n",
       "      <td>Yes</td>\n",
       "      <td>No</td>\n",
       "      <td>Yes</td>\n",
       "      <td>Yes</td>\n",
       "      <td>No</td>\n",
       "      <td>No</td>\n",
       "      <td>One year</td>\n",
       "      <td>No</td>\n",
       "      <td>Bank transfer (automatic)</td>\n",
       "      <td>42.30</td>\n",
       "      <td>1840.75</td>\n",
       "      <td>No</td>\n",
       "    </tr>\n",
       "    <tr>\n",
       "      <th>4</th>\n",
       "      <td>9237-HQITU</td>\n",
       "      <td>Female</td>\n",
       "      <td>0</td>\n",
       "      <td>No</td>\n",
       "      <td>No</td>\n",
       "      <td>2</td>\n",
       "      <td>Yes</td>\n",
       "      <td>No</td>\n",
       "      <td>Fiber optic</td>\n",
       "      <td>No</td>\n",
       "      <td>No</td>\n",
       "      <td>No</td>\n",
       "      <td>No</td>\n",
       "      <td>No</td>\n",
       "      <td>No</td>\n",
       "      <td>Month-to-month</td>\n",
       "      <td>Yes</td>\n",
       "      <td>Electronic check</td>\n",
       "      <td>70.70</td>\n",
       "      <td>151.65</td>\n",
       "      <td>Yes</td>\n",
       "    </tr>\n",
       "  </tbody>\n",
       "</table>\n",
       "</div>"
      ],
      "text/plain": [
       "         用户ID      性别  老年人 是否有配偶 是否经济独立  客户的入网时间 是否开通电话服务业务         是否开通了多线业务  \\\n",
       "0  7590-VHVEG  Female    0   Yes     No        1         No  No phone service   \n",
       "1  5575-GNVDE    Male    0    No     No       34        Yes                No   \n",
       "2  3668-QPYBK    Male    0    No     No        2        Yes                No   \n",
       "3  7795-CFOCW    Male    0    No     No       45         No  No phone service   \n",
       "4  9237-HQITU  Female    0    No     No        2        Yes                No   \n",
       "\n",
       "     是否开通互联网服务 是否开通网络安全服务 是否开通在线备份业务 是否开通了设备保护业务 是否开通了技术支持服务 是否开通网络电视  \\\n",
       "0          DSL         No        Yes          No          No       No   \n",
       "1          DSL        Yes         No         Yes          No       No   \n",
       "2          DSL        Yes        Yes          No          No       No   \n",
       "3          DSL        Yes         No         Yes         Yes       No   \n",
       "4  Fiber optic         No         No          No          No       No   \n",
       "\n",
       "  是否开通网络电影          签订合同年限 是否开通电子账单                       付款方式    月费用  \\\n",
       "0       No  Month-to-month      Yes           Electronic check  29.85   \n",
       "1       No        One year       No               Mailed check  56.95   \n",
       "2       No  Month-to-month      Yes               Mailed check  53.85   \n",
       "3       No        One year       No  Bank transfer (automatic)  42.30   \n",
       "4       No  Month-to-month      Yes           Electronic check  70.70   \n",
       "\n",
       "       总费用 该用户是否流失  \n",
       "0    29.85      No  \n",
       "1   1889.5      No  \n",
       "2   108.15     Yes  \n",
       "3  1840.75      No  \n",
       "4   151.65     Yes  "
      ]
     },
     "execution_count": 5,
     "metadata": {},
     "output_type": "execute_result"
    }
   ],
   "source": [
    "data.columns=['用户ID','性别','老年人' ,'是否有配偶' ,'是否经济独立' ,'客户的入网时间','是否开通电话服务业务' ,'是否开通了多线业务'\n",
    ",'是否开通互联网服务' ,'是否开通网络安全服务','是否开通在线备份业务','是否开通了设备保护业务','是否开通了技术支持服务','是否开通网络电视'\n",
    ",'是否开通网络电影','签订合同年限' ,'是否开通电子账单','付款方式','月费用','总费用','该用户是否流失']\n",
    "data.head()"
   ]
  },
  {
   "cell_type": "markdown",
   "metadata": {},
   "source": [
    "将总费用转化成浮点类型，出现错误：ValueError: could not convert string to float:字符串无法转化成浮点类型"
   ]
  },
  {
   "cell_type": "code",
   "execution_count": 6,
   "metadata": {},
   "outputs": [
    {
     "ename": "SyntaxError",
     "evalue": "invalid syntax (<ipython-input-6-323b9874fde4>, line 3)",
     "output_type": "error",
     "traceback": [
      "\u001b[1;36m  File \u001b[1;32m\"<ipython-input-6-323b9874fde4>\"\u001b[1;36m, line \u001b[1;32m3\u001b[0m\n\u001b[1;33m    could not convert string to float:\u001b[0m\n\u001b[1;37m                    ^\u001b[0m\n\u001b[1;31mSyntaxError\u001b[0m\u001b[1;31m:\u001b[0m invalid syntax\n"
     ]
    }
   ],
   "source": [
    "data['总费用'].astype(float)\n",
    "#运行结果：\n",
    "could not convert string to float:"
   ]
  },
  {
   "cell_type": "markdown",
   "metadata": {},
   "source": [
    "再次检查数据，发现有缺失值。"
   ]
  },
  {
   "cell_type": "code",
   "execution_count": 7,
   "metadata": {},
   "outputs": [
    {
     "data": {
      "text/plain": [
       "20.2       11\n",
       "           11\n",
       "19.75       9\n",
       "20.05       8\n",
       "19.9        8\n",
       "19.65       8\n",
       "45.3        7\n",
       "19.55       7\n",
       "19.45       6\n",
       "20.15       6\n",
       "20.25       6\n",
       "20.3        5\n",
       "20.45       5\n",
       "69.65       4\n",
       "69.9        4\n",
       "20.35       4\n",
       "75.3        4\n",
       "19.5        4\n",
       "50.15       4\n",
       "44.4        4\n",
       "44          4\n",
       "69.6        4\n",
       "20.5        4\n",
       "70.6        4\n",
       "74.7        4\n",
       "19.3        4\n",
       "20.4        4\n",
       "19.85       4\n",
       "49.9        4\n",
       "19.2        4\n",
       "           ..\n",
       "1267.95     1\n",
       "6586.85     1\n",
       "7578.05     1\n",
       "1195.75     1\n",
       "35.85       1\n",
       "116.6       1\n",
       "6144.55     1\n",
       "6223.3      1\n",
       "249.4       1\n",
       "6185.15     1\n",
       "1319.95     1\n",
       "2384.15     1\n",
       "174.65      1\n",
       "2688.85     1\n",
       "74          1\n",
       "5656.75     1\n",
       "608.8       1\n",
       "1326.25     1\n",
       "1054.75     1\n",
       "4746.05     1\n",
       "1620.45     1\n",
       "6365.35     1\n",
       "4920.8      1\n",
       "6891.45     1\n",
       "6042.7      1\n",
       "4233.95     1\n",
       "28.3        1\n",
       "2111.45     1\n",
       "1465.75     1\n",
       "1120.95     1\n",
       "Name: 总费用, Length: 6531, dtype: int64"
      ]
     },
     "execution_count": 7,
     "metadata": {},
     "output_type": "execute_result"
    }
   ],
   "source": [
    "data['总费用'].value_counts()"
   ]
  },
  {
   "cell_type": "markdown",
   "metadata": {},
   "source": [
    "依次检查其他列有无缺失值。"
   ]
  },
  {
   "cell_type": "code",
   "execution_count": 8,
   "metadata": {},
   "outputs": [
    {
     "name": "stdout",
     "output_type": "stream",
     "text": [
      "[用户ID行数是：7043\n",
      "[用户ID内容是：\n",
      "8631-WUXGY    1\n",
      "5003-XZWWO    1\n",
      "2096-XOTMO    1\n",
      "7128-GGCNO    1\n",
      "3927-NLNRY    1\n",
      "4683-WYDOU    1\n",
      "5360-XGYAZ    1\n",
      "1956-YIFGE    1\n",
      "8410-BGQXN    1\n",
      "8749-CLJXC    1\n",
      "7663-YJHSN    1\n",
      "4801-JZAZL    1\n",
      "6173-GOLSU    1\n",
      "1474-JUWSM    1\n",
      "9867-JCZSP    1\n",
      "6128-AQBMT    1\n",
      "7337-CINUD    1\n",
      "7928-VJYAB    1\n",
      "2874-YXVVA    1\n",
      "5287-QWLKY    1\n",
      "0665-XHDJU    1\n",
      "9658-WYUFB    1\n",
      "5924-IFQTT    1\n",
      "9052-VKDUW    1\n",
      "1539-LNKHM    1\n",
      "9297-FVVDH    1\n",
      "1269-FOYWN    1\n",
      "0239-OXEXL    1\n",
      "4980-URKXC    1\n",
      "8473-VUVJN    1\n",
      "             ..\n",
      "5213-TWWJU    1\n",
      "0013-EXCHZ    1\n",
      "2947-DOMLJ    1\n",
      "4751-ERMAN    1\n",
      "6745-JEFZB    1\n",
      "0323-XWWTN    1\n",
      "8040-MNRTF    1\n",
      "9133-AYJZG    1\n",
      "3672-YITQD    1\n",
      "7878-RTCZG    1\n",
      "3871-IKPYH    1\n",
      "6917-FIJHC    1\n",
      "7156-MHUGY    1\n",
      "5846-NEQVZ    1\n",
      "5791-KAJFD    1\n",
      "3721-WKIIL    1\n",
      "9968-FFVVH    1\n",
      "5480-XTFFL    1\n",
      "9489-JMTTN    1\n",
      "8619-IJNDK    1\n",
      "1297-VQDRP    1\n",
      "4806-KEXQR    1\n",
      "7277-OZCGZ    1\n",
      "2672-DZUOY    1\n",
      "9888-ZCUMM    1\n",
      "6461-SZMCV    1\n",
      "6145-NNPNO    1\n",
      "6598-RFFVI    1\n",
      "7392-YYPYJ    1\n",
      "3308-JSGML    1\n",
      "Name: 用户ID, Length: 7043, dtype: int64\n",
      "\n",
      "[性别行数是：7043\n",
      "[性别内容是：\n",
      "Male      3555\n",
      "Female    3488\n",
      "Name: 性别, dtype: int64\n",
      "\n",
      "[老年人行数是：7043\n",
      "[老年人内容是：\n",
      "0    5901\n",
      "1    1142\n",
      "Name: 老年人, dtype: int64\n",
      "\n",
      "[是否有配偶行数是：7043\n",
      "[是否有配偶内容是：\n",
      "No     3641\n",
      "Yes    3402\n",
      "Name: 是否有配偶, dtype: int64\n",
      "\n",
      "[是否经济独立行数是：7043\n",
      "[是否经济独立内容是：\n",
      "No     4933\n",
      "Yes    2110\n",
      "Name: 是否经济独立, dtype: int64\n",
      "\n",
      "[客户的入网时间行数是：7043\n",
      "[客户的入网时间内容是：\n",
      "1     613\n",
      "72    362\n",
      "2     238\n",
      "3     200\n",
      "4     176\n",
      "71    170\n",
      "5     133\n",
      "7     131\n",
      "8     123\n",
      "70    119\n",
      "9     119\n",
      "12    117\n",
      "10    116\n",
      "6     110\n",
      "13    109\n",
      "68    100\n",
      "15     99\n",
      "11     99\n",
      "67     98\n",
      "18     97\n",
      "69     95\n",
      "24     94\n",
      "22     90\n",
      "66     89\n",
      "35     88\n",
      "17     87\n",
      "23     85\n",
      "64     80\n",
      "56     80\n",
      "16     80\n",
      "     ... \n",
      "20     71\n",
      "62     70\n",
      "41     70\n",
      "53     70\n",
      "32     69\n",
      "54     68\n",
      "47     68\n",
      "50     68\n",
      "51     68\n",
      "58     67\n",
      "49     66\n",
      "43     65\n",
      "42     65\n",
      "31     65\n",
      "34     65\n",
      "37     65\n",
      "57     65\n",
      "55     64\n",
      "40     64\n",
      "48     64\n",
      "33     64\n",
      "21     63\n",
      "45     61\n",
      "59     60\n",
      "38     59\n",
      "28     57\n",
      "39     56\n",
      "44     51\n",
      "36     50\n",
      "0      11\n",
      "Name: 客户的入网时间, Length: 73, dtype: int64\n",
      "\n",
      "[是否开通电话服务业务行数是：7043\n",
      "[是否开通电话服务业务内容是：\n",
      "Yes    6361\n",
      "No      682\n",
      "Name: 是否开通电话服务业务, dtype: int64\n",
      "\n",
      "[是否开通了多线业务行数是：7043\n",
      "[是否开通了多线业务内容是：\n",
      "No                  3390\n",
      "Yes                 2971\n",
      "No phone service     682\n",
      "Name: 是否开通了多线业务, dtype: int64\n",
      "\n",
      "[是否开通互联网服务行数是：7043\n",
      "[是否开通互联网服务内容是：\n",
      "Fiber optic    3096\n",
      "DSL            2421\n",
      "No             1526\n",
      "Name: 是否开通互联网服务, dtype: int64\n",
      "\n",
      "[是否开通网络安全服务行数是：7043\n",
      "[是否开通网络安全服务内容是：\n",
      "No                     3498\n",
      "Yes                    2019\n",
      "No internet service    1526\n",
      "Name: 是否开通网络安全服务, dtype: int64\n",
      "\n",
      "[是否开通在线备份业务行数是：7043\n",
      "[是否开通在线备份业务内容是：\n",
      "No                     3088\n",
      "Yes                    2429\n",
      "No internet service    1526\n",
      "Name: 是否开通在线备份业务, dtype: int64\n",
      "\n",
      "[是否开通了设备保护业务行数是：7043\n",
      "[是否开通了设备保护业务内容是：\n",
      "No                     3095\n",
      "Yes                    2422\n",
      "No internet service    1526\n",
      "Name: 是否开通了设备保护业务, dtype: int64\n",
      "\n",
      "[是否开通了技术支持服务行数是：7043\n",
      "[是否开通了技术支持服务内容是：\n",
      "No                     3473\n",
      "Yes                    2044\n",
      "No internet service    1526\n",
      "Name: 是否开通了技术支持服务, dtype: int64\n",
      "\n",
      "[是否开通网络电视行数是：7043\n",
      "[是否开通网络电视内容是：\n",
      "No                     2810\n",
      "Yes                    2707\n",
      "No internet service    1526\n",
      "Name: 是否开通网络电视, dtype: int64\n",
      "\n",
      "[是否开通网络电影行数是：7043\n",
      "[是否开通网络电影内容是：\n",
      "No                     2785\n",
      "Yes                    2732\n",
      "No internet service    1526\n",
      "Name: 是否开通网络电影, dtype: int64\n",
      "\n",
      "[签订合同年限行数是：7043\n",
      "[签订合同年限内容是：\n",
      "Month-to-month    3875\n",
      "Two year          1695\n",
      "One year          1473\n",
      "Name: 签订合同年限, dtype: int64\n",
      "\n",
      "[是否开通电子账单行数是：7043\n",
      "[是否开通电子账单内容是：\n",
      "Yes    4171\n",
      "No     2872\n",
      "Name: 是否开通电子账单, dtype: int64\n",
      "\n",
      "[付款方式行数是：7043\n",
      "[付款方式内容是：\n",
      "Electronic check             2365\n",
      "Mailed check                 1612\n",
      "Bank transfer (automatic)    1544\n",
      "Credit card (automatic)      1522\n",
      "Name: 付款方式, dtype: int64\n",
      "\n",
      "[月费用行数是：7043\n",
      "[月费用内容是：\n",
      "20.05     61\n",
      "19.85     45\n",
      "19.95     44\n",
      "19.90     44\n",
      "20.00     43\n",
      "19.70     43\n",
      "19.65     43\n",
      "19.55     40\n",
      "20.15     40\n",
      "19.75     39\n",
      "20.25     39\n",
      "20.35     38\n",
      "19.80     38\n",
      "19.60     37\n",
      "20.10     37\n",
      "20.20     35\n",
      "19.50     32\n",
      "19.40     31\n",
      "20.45     31\n",
      "20.40     30\n",
      "19.45     28\n",
      "20.50     28\n",
      "20.30     28\n",
      "20.55     27\n",
      "19.35     25\n",
      "19.30     24\n",
      "20.65     23\n",
      "25.25     20\n",
      "25.10     19\n",
      "19.25     18\n",
      "          ..\n",
      "67.50      1\n",
      "33.50      1\n",
      "48.15      1\n",
      "31.10      1\n",
      "39.95      1\n",
      "81.65      1\n",
      "117.45     1\n",
      "107.00     1\n",
      "66.35      1\n",
      "62.30      1\n",
      "112.60     1\n",
      "110.70     1\n",
      "28.60      1\n",
      "108.60     1\n",
      "73.10      1\n",
      "39.55      1\n",
      "53.70      1\n",
      "21.30      1\n",
      "18.40      1\n",
      "67.60      1\n",
      "33.75      1\n",
      "29.40      1\n",
      "57.80      1\n",
      "34.55      1\n",
      "107.65     1\n",
      "114.75     1\n",
      "103.60     1\n",
      "113.40     1\n",
      "57.65      1\n",
      "113.30     1\n",
      "Name: 月费用, Length: 1585, dtype: int64\n",
      "\n",
      "[总费用行数是：7043\n",
      "[总费用内容是：\n",
      "20.2       11\n",
      "           11\n",
      "19.75       9\n",
      "20.05       8\n",
      "19.9        8\n",
      "19.65       8\n",
      "45.3        7\n",
      "19.55       7\n",
      "19.45       6\n",
      "20.15       6\n",
      "20.25       6\n",
      "20.3        5\n",
      "20.45       5\n",
      "69.65       4\n",
      "69.9        4\n",
      "20.35       4\n",
      "75.3        4\n",
      "19.5        4\n",
      "50.15       4\n",
      "44.4        4\n",
      "44          4\n",
      "69.6        4\n",
      "20.5        4\n",
      "70.6        4\n",
      "74.7        4\n",
      "19.3        4\n",
      "20.4        4\n",
      "19.85       4\n",
      "49.9        4\n",
      "19.2        4\n",
      "           ..\n",
      "1267.95     1\n",
      "6586.85     1\n",
      "7578.05     1\n",
      "1195.75     1\n",
      "35.85       1\n",
      "116.6       1\n",
      "6144.55     1\n",
      "6223.3      1\n",
      "249.4       1\n",
      "6185.15     1\n",
      "1319.95     1\n",
      "2384.15     1\n",
      "174.65      1\n",
      "2688.85     1\n",
      "74          1\n",
      "5656.75     1\n",
      "608.8       1\n",
      "1326.25     1\n",
      "1054.75     1\n",
      "4746.05     1\n",
      "1620.45     1\n",
      "6365.35     1\n",
      "4920.8      1\n",
      "6891.45     1\n",
      "6042.7      1\n",
      "4233.95     1\n",
      "28.3        1\n",
      "2111.45     1\n",
      "1465.75     1\n",
      "1120.95     1\n",
      "Name: 总费用, Length: 6531, dtype: int64\n",
      "\n",
      "[该用户是否流失行数是：7043\n",
      "[该用户是否流失内容是：\n",
      "No     5174\n",
      "Yes    1869\n",
      "Name: 该用户是否流失, dtype: int64\n",
      "\n"
     ]
    }
   ],
   "source": [
    "for i in data.columns:\n",
    "    test=data[i].value_counts()\n",
    "    print('[{0}行数是：{1}'.format(i,test.sum()))\n",
    "    print('[{0}内容是：\\n{1}\\n'.format(i,test))"
   ]
  },
  {
   "cell_type": "markdown",
   "metadata": {},
   "source": [
    "将总费用强制转化成浮点类型。"
   ]
  },
  {
   "cell_type": "code",
   "execution_count": 9,
   "metadata": {},
   "outputs": [
    {
     "data": {
      "text/html": [
       "<div>\n",
       "<style scoped>\n",
       "    .dataframe tbody tr th:only-of-type {\n",
       "        vertical-align: middle;\n",
       "    }\n",
       "\n",
       "    .dataframe tbody tr th {\n",
       "        vertical-align: top;\n",
       "    }\n",
       "\n",
       "    .dataframe thead th {\n",
       "        text-align: right;\n",
       "    }\n",
       "</style>\n",
       "<table border=\"1\" class=\"dataframe\">\n",
       "  <thead>\n",
       "    <tr style=\"text-align: right;\">\n",
       "      <th></th>\n",
       "      <th>客户的入网时间</th>\n",
       "      <th>总费用</th>\n",
       "    </tr>\n",
       "  </thead>\n",
       "  <tbody>\n",
       "    <tr>\n",
       "      <th>488</th>\n",
       "      <td>0</td>\n",
       "      <td>NaN</td>\n",
       "    </tr>\n",
       "    <tr>\n",
       "      <th>753</th>\n",
       "      <td>0</td>\n",
       "      <td>NaN</td>\n",
       "    </tr>\n",
       "    <tr>\n",
       "      <th>936</th>\n",
       "      <td>0</td>\n",
       "      <td>NaN</td>\n",
       "    </tr>\n",
       "    <tr>\n",
       "      <th>1082</th>\n",
       "      <td>0</td>\n",
       "      <td>NaN</td>\n",
       "    </tr>\n",
       "    <tr>\n",
       "      <th>1340</th>\n",
       "      <td>0</td>\n",
       "      <td>NaN</td>\n",
       "    </tr>\n",
       "    <tr>\n",
       "      <th>3331</th>\n",
       "      <td>0</td>\n",
       "      <td>NaN</td>\n",
       "    </tr>\n",
       "    <tr>\n",
       "      <th>3826</th>\n",
       "      <td>0</td>\n",
       "      <td>NaN</td>\n",
       "    </tr>\n",
       "    <tr>\n",
       "      <th>4380</th>\n",
       "      <td>0</td>\n",
       "      <td>NaN</td>\n",
       "    </tr>\n",
       "    <tr>\n",
       "      <th>5218</th>\n",
       "      <td>0</td>\n",
       "      <td>NaN</td>\n",
       "    </tr>\n",
       "    <tr>\n",
       "      <th>6670</th>\n",
       "      <td>0</td>\n",
       "      <td>NaN</td>\n",
       "    </tr>\n",
       "    <tr>\n",
       "      <th>6754</th>\n",
       "      <td>0</td>\n",
       "      <td>NaN</td>\n",
       "    </tr>\n",
       "  </tbody>\n",
       "</table>\n",
       "</div>"
      ],
      "text/plain": [
       "      客户的入网时间  总费用\n",
       "488         0  NaN\n",
       "753         0  NaN\n",
       "936         0  NaN\n",
       "1082        0  NaN\n",
       "1340        0  NaN\n",
       "3331        0  NaN\n",
       "3826        0  NaN\n",
       "4380        0  NaN\n",
       "5218        0  NaN\n",
       "6670        0  NaN\n",
       "6754        0  NaN"
      ]
     },
     "execution_count": 9,
     "metadata": {},
     "output_type": "execute_result"
    }
   ],
   "source": [
    "data['总费用']=data['总费用'].apply(pd.to_numeric, errors=\"coerce\")\n",
    "data[data['总费用'].isnull()][['客户的入网时间','总费用']]"
   ]
  },
  {
   "cell_type": "markdown",
   "metadata": {},
   "source": [
    "转化为浮点类型后，发现缺失值的用户入网时间都为0，推测用户入网的第一个月，还没有总费用。因此将总费用填充为月费用，用户的入网时间改成1。"
   ]
  },
  {
   "cell_type": "code",
   "execution_count": 10,
   "metadata": {},
   "outputs": [
    {
     "name": "stdout",
     "output_type": "stream",
     "text": [
      "<class 'pandas.core.frame.DataFrame'>\n",
      "RangeIndex: 7043 entries, 0 to 7042\n",
      "Data columns (total 21 columns):\n",
      "用户ID           7043 non-null object\n",
      "性别             7043 non-null object\n",
      "老年人            7043 non-null int64\n",
      "是否有配偶          7043 non-null object\n",
      "是否经济独立         7043 non-null object\n",
      "客户的入网时间        7043 non-null int64\n",
      "是否开通电话服务业务     7043 non-null object\n",
      "是否开通了多线业务      7043 non-null object\n",
      "是否开通互联网服务      7043 non-null object\n",
      "是否开通网络安全服务     7043 non-null object\n",
      "是否开通在线备份业务     7043 non-null object\n",
      "是否开通了设备保护业务    7043 non-null object\n",
      "是否开通了技术支持服务    7043 non-null object\n",
      "是否开通网络电视       7043 non-null object\n",
      "是否开通网络电影       7043 non-null object\n",
      "签订合同年限         7043 non-null object\n",
      "是否开通电子账单       7043 non-null object\n",
      "付款方式           7043 non-null object\n",
      "月费用            7043 non-null float64\n",
      "总费用            7043 non-null float64\n",
      "该用户是否流失        7043 non-null object\n",
      "dtypes: float64(2), int64(2), object(17)\n",
      "memory usage: 1.1+ MB\n"
     ]
    }
   ],
   "source": [
    "data['总费用'].fillna(data[data['总费用'].isnull()]['月费用'],axis=0,inplace=True)\n",
    "data['客户的入网时间'].replace(to_replace=0,value=1,inplace=True)\n",
    "data.info()"
   ]
  },
  {
   "cell_type": "markdown",
   "metadata": {},
   "source": [
    "数据处理完毕。"
   ]
  },
  {
   "cell_type": "markdown",
   "metadata": {},
   "source": [
    "## 用户流失分析\n",
    "### 流失占比分析"
   ]
  },
  {
   "cell_type": "markdown",
   "metadata": {},
   "source": [
    "查看用户流失情况。"
   ]
  },
  {
   "cell_type": "code",
   "execution_count": 11,
   "metadata": {},
   "outputs": [
    {
     "data": {
      "text/plain": [
       "Text(0.5, 1.0, '用户流失占比')"
      ]
     },
     "execution_count": 11,
     "metadata": {},
     "output_type": "execute_result"
    },
    {
     "data": {
      "image/png": "[encoded data removed]",
      "text/plain": [
       "<Figure size 432x288 with 1 Axes>"
      ]
     },
     "metadata": {},
     "output_type": "display_data"
    }
   ],
   "source": [
    "plt.rcParams['font.sans-serif']=['SimHei']\n",
    "plt.rcParams['axes.unicode_minus']=False\n",
    "plt.pie(data['该用户是否流失'].value_counts(),labels=['未流失','流失'],autopct='%.2f%%',explode=(0.1,0))\n",
    "plt.title('用户流失占比')"
   ]
  },
  {
   "cell_type": "markdown",
   "metadata": {},
   "source": [
    "可以看出，大概有1/3的用户流失。"
   ]
  },
  {
   "cell_type": "markdown",
   "metadata": {},
   "source": [
    "### 用户属性分析"
   ]
  },
  {
   "cell_type": "code",
   "execution_count": 12,
   "metadata": {},
   "outputs": [
    {
     "data": {
      "image/png": "[encoded data removed]",
      "text/plain": [
       "<Figure size 432x288 with 1 Axes>"
      ]
     },
     "metadata": {
      "needs_background": "light"
     },
     "output_type": "display_data"
    },
    {
     "data": {
      "image/png": "[encoded data removed]",
      "text/plain": [
       "<Figure size 432x288 with 1 Axes>"
      ]
     },
     "metadata": {
      "needs_background": "light"
     },
     "output_type": "display_data"
    }
   ],
   "source": [
    "def plt_bar(featrue):\n",
    "    df=(data.groupby(data[featrue])['该用户是否流失'].value_counts()/len(data)).unstack()\n",
    "    df.plot(kind='bar')\n",
    "    plt.title('{}流失分析'.format(featrue),fontsize=15)\n",
    "    plt.xticks(rotation=0)\n",
    "    plt.rcParams.update({'font.size': 10})\n",
    "plt_bar('性别')\n",
    "plt_bar('老年人')"
   ]
  },
  {
   "cell_type": "markdown",
   "metadata": {},
   "source": [
    "小结：\n",
    "\n",
    "- 用户流失基本与性别无关。\n",
    "- 年老用户的流失占比显著高于年轻用户。"
   ]
  },
  {
   "cell_type": "code",
   "execution_count": 15,
   "metadata": {},
   "outputs": [
    {
     "data": {
      "image/png": "[encoded data removed]",
      "text/plain": [
       "<Figure size 432x288 with 1 Axes>"
      ]
     },
     "metadata": {
      "needs_background": "light"
     },
     "output_type": "display_data"
    }
   ],
   "source": [
    "def plt_kde(feature):\n",
    "    x=data[data['该用户是否流失']=='Yes'][feature]\n",
    "    y=data[data['该用户是否流失']=='No'][feature]\n",
    "    sns.kdeplot(x,shade=True,label='已流失客户')\n",
    "    sns.kdeplot(y,shade=True,label='未流失客户')\n",
    "    plt.title('{}分析'.format(feature),fontsize=15)\n",
    "plt_kde('客户的入网时间')"
   ]
  },
  {
   "cell_type": "markdown",
   "metadata": {},
   "source": [
    "小结：\n",
    "\n",
    "- 用户的入网时间越短，流失越高，符合一般规律。\n",
    "- 用户入网时间在0-20天内流失风险最大。\n",
    "- 入网时间达到三个月，流失率小于在网率，证明用户心理的稳定期一般是3个月。"
   ]
  },
  {
   "cell_type": "code",
   "execution_count": 16,
   "metadata": {},
   "outputs": [
    {
     "data": {
      "image/png": "[encoded data removed]",
      "text/plain": [
       "<Figure size 432x288 with 1 Axes>"
      ]
     },
     "metadata": {
      "needs_background": "light"
     },
     "output_type": "display_data"
    },
    {
     "data": {
      "image/png": "[encoded data removed]",
      "text/plain": [
       "<Figure size 432x288 with 1 Axes>"
      ]
     },
     "metadata": {
      "needs_background": "light"
     },
     "output_type": "display_data"
    }
   ],
   "source": [
    "plt_bar('是否有配偶')\n",
    "plt_bar('是否经济独立')"
   ]
  },
  {
   "cell_type": "markdown",
   "metadata": {},
   "source": [
    "小结：\n",
    "\n",
    "- 没有配偶的用户流失率高于有配偶。\n",
    "- 经济未独立的用户流失率高于经济独立。"
   ]
  },
  {
   "cell_type": "markdown",
   "metadata": {},
   "source": [
    "### 服务属性分析"
   ]
  },
  {
   "cell_type": "code",
   "execution_count": 17,
   "metadata": {},
   "outputs": [
    {
     "data": {
      "image/png": "[encoded data removed]",
      "text/plain": [
       "<Figure size 864x864 with 2 Axes>"
      ]
     },
     "metadata": {
      "needs_background": "light"
     },
     "output_type": "display_data"
    }
   ],
   "source": [
    "def plt_hbar(feature1,feature2):\n",
    "    figure,ax=plt.subplots(2,1,figsize=(12,12))\n",
    "    gp_dep=(data.groupby(feature1)['该用户是否流失'].value_counts()/len(data)).to_frame()\n",
    "    gp_dep.rename(columns={\"该用户是否流失\":'占比'} , inplace=True)\n",
    "    gp_dep.reset_index(inplace=True)\n",
    "    sns.barplot(x='占比', hue='该用户是否流失',y=feature1, data=gp_dep,ax=ax[0])\n",
    "    \n",
    "    gp=(data.groupby(feature2)['该用户是否流失'].value_counts()/len(data)).to_frame()\n",
    "    gp.rename(columns={\"该用户是否流失\":'占比'} , inplace=True)\n",
    "    gp.reset_index(inplace=True)\n",
    "    sns.barplot(x='占比', hue='该用户是否流失',y=feature2, data=gp,ax=ax[1])\n",
    "plt_hbar(\"是否开通了多线业务\",\"是否开通互联网服务\")"
   ]
  },
  {
   "cell_type": "code",
   "execution_count": 18,
   "metadata": {},
   "outputs": [
    {
     "data": {
      "text/plain": [
       "<matplotlib.axes._subplots.AxesSubplot at 0x1700eaa18d0>"
      ]
     },
     "execution_count": 18,
     "metadata": {},
     "output_type": "execute_result"
    },
    {
     "data": {
      "image/png": "[encoded data removed]",
      "text/plain": [
       "<Figure size 1440x576 with 1 Axes>"
      ]
     },
     "metadata": {
      "needs_background": "light"
     },
     "output_type": "display_data"
    }
   ],
   "source": [
    "df1=pd.melt(data[data['是否开通互联网服务']!='No'][['是否开通电话服务业务','是否开通了多线业务','是否开通网络安全服务'\n",
    " ,'是否开通在线备份业务','是否开通了设备保护业务','是否开通了技术支持服务'\n",
    ",'是否开通网络电视','是否开通网络电影']],value_name='有服务')\n",
    "plt.figure(figsize=(20, 8))\n",
    "sns.countplot(data=df1,x='variable',hue='有服务')"
   ]
  },
  {
   "cell_type": "code",
   "execution_count": 19,
   "metadata": {},
   "outputs": [
    {
     "data": {
      "text/plain": [
       "<matplotlib.axes._subplots.AxesSubplot at 0x1700ebb4cf8>"
      ]
     },
     "execution_count": 19,
     "metadata": {},
     "output_type": "execute_result"
    },
    {
     "data": {
      "image/png": "[encoded data removed]",
      "text/plain": [
       "<Figure size 1152x576 with 1 Axes>"
      ]
     },
     "metadata": {
      "needs_background": "light"
     },
     "output_type": "display_data"
    }
   ],
   "source": [
    "df2=pd.melt(data[(data['是否开通互联网服务']!='No')& (data['该用户是否流失']=='Yes')][['是否开通电话服务业务','是否开通了多线业务','是否开通网络安全服务'\n",
    " ,'是否开通在线备份业务','是否开通了设备保护业务','是否开通了技术支持服务'\n",
    ",'是否开通网络电视','是否开通网络电影']])\n",
    "figure,ax=plt.subplots(figsize=(16,8))\n",
    "sns.countplot(x='variable',hue='value',data=df2)"
   ]
  },
  {
   "cell_type": "markdown",
   "metadata": {},
   "source": [
    "小结：\n",
    "\n",
    "- 电话服务对整体的流失影响较小。\n",
    "- 单光纤用户的流失占比较高。\n",
    "- 光纤用户绑定了安全、备份、保护、技术支持服务的流失率较低\n",
    "- 光纤用户附加网络电视、电影服务的流失率占比较高。"
   ]
  },
  {
   "cell_type": "markdown",
   "metadata": {},
   "source": [
    "### 合同属性分析"
   ]
  },
  {
   "cell_type": "code",
   "execution_count": 20,
   "metadata": {},
   "outputs": [
    {
     "data": {
      "image/png": "[encoded data removed]",
      "text/plain": [
       "<Figure size 432x288 with 1 Axes>"
      ]
     },
     "metadata": {
      "needs_background": "light"
     },
     "output_type": "display_data"
    },
    {
     "data": {
      "image/png": "[encoded data removed]",
      "text/plain": [
       "<Figure size 432x288 with 1 Axes>"
      ]
     },
     "metadata": {
      "needs_background": "light"
     },
     "output_type": "display_data"
    }
   ],
   "source": [
    "plt_bar('签订合同年限')\n",
    "plt_bar('是否开通电子账单')"
   ]
  },
  {
   "cell_type": "code",
   "execution_count": 21,
   "metadata": {},
   "outputs": [
    {
     "data": {
      "image/png": "[encoded data removed]",
      "text/plain": [
       "<Figure size 777.6x432 with 2 Axes>"
      ]
     },
     "metadata": {
      "needs_background": "light"
     },
     "output_type": "display_data"
    }
   ],
   "source": [
    "data['是否流失']=data['该用户是否流失'].replace('No',0).replace('Yes',1)\n",
    "g = sns.FacetGrid(data, col=\"是否开通电子账单\", height=6, aspect=.9)\n",
    "ax = g.map(sns.barplot, \"签订合同年限\",\"是否流失\",palette = \"Blues_d\"\n",
    "           , order= ['Month-to-month', 'One year', 'Two year'])"
   ]
  },
  {
   "cell_type": "code",
   "execution_count": 22,
   "metadata": {},
   "outputs": [
    {
     "data": {
      "text/plain": [
       "<matplotlib.axes._subplots.AxesSubplot at 0x1700f5f3a90>"
      ]
     },
     "execution_count": 22,
     "metadata": {},
     "output_type": "execute_result"
    },
    {
     "data": {
      "image/png": "[encoded data removed]",
      "text/plain": [
       "<Figure size 864x432 with 1 Axes>"
      ]
     },
     "metadata": {
      "needs_background": "light"
     },
     "output_type": "display_data"
    }
   ],
   "source": [
    "figure,ax=plt.subplots(figsize=(12,6))\n",
    "gp_dep=(data.groupby('付款方式')['该用户是否流失'].value_counts()/len(data)).to_frame()\n",
    "gp_dep.rename(columns={\"该用户是否流失\":'占比'} , inplace=True)\n",
    "gp_dep.reset_index(inplace=True)\n",
    "sns.barplot(x='占比', hue='该用户是否流失',y='付款方式', data=gp_dep)"
   ]
  },
  {
   "cell_type": "code",
   "execution_count": 25,
   "metadata": {},
   "outputs": [
    {
     "data": {
      "image/png": "[encoded data removed]",
      "text/plain": [
       "<Figure size 432x288 with 1 Axes>"
      ]
     },
     "metadata": {
      "needs_background": "light"
     },
     "output_type": "display_data"
    }
   ],
   "source": [
    "plt_kde('月费用')"
   ]
  },
  {
   "cell_type": "code",
   "execution_count": 26,
   "metadata": {},
   "outputs": [
    {
     "data": {
      "image/png": "[encoded data removed]",
      "text/plain": [
       "<Figure size 432x288 with 1 Axes>"
      ]
     },
     "metadata": {
      "needs_background": "light"
     },
     "output_type": "display_data"
    }
   ],
   "source": [
    "plt_kde('总费用')"
   ]
  },
  {
   "cell_type": "markdown",
   "metadata": {},
   "source": [
    "- 签订合同年限的用户流失率：按月签订>按一年签订>按两年签订，证明长期合同能保留用户。\n",
    "- 开通电子账单的用户流失率较高，原因是采用电子支票的用户按月签订合同的占比较高，用户黏性低，易流失。\n",
    "- 采用电子支票的用户流失率最高，推测是该方式的使用体验一般。\n",
    "- 月消费金额大约在70-110用户流失率较高。\n",
    "- 长期来看，用户总消费越高，流失率越低，符合一般经验。"
   ]
  },
  {
   "cell_type": "markdown",
   "metadata": {},
   "source": [
    "通过以上分析，可以得到较高流失率的人群特征，具有这些特征的人群需要对其经营，增加用户黏性，延长生命周期价值。\n",
    "\n"
   ]
  },
  {
   "cell_type": "markdown",
   "metadata": {},
   "source": [
    "## 用户流失预测\n",
    "### 数据预处理"
   ]
  },
  {
   "cell_type": "markdown",
   "metadata": {},
   "source": [
    "用户ID列没用，将其删除。"
   ]
  },
  {
   "cell_type": "code",
   "execution_count": 29,
   "metadata": {},
   "outputs": [],
   "source": [
    "data.drop('用户ID',inplace=True,axis=1)"
   ]
  },
  {
   "cell_type": "markdown",
   "metadata": {},
   "source": [
    "将特征“是否开通了多线业务”中的值No phone service替换成No，\n",
    "其他特征也做相同的处理。"
   ]
  },
  {
   "cell_type": "code",
   "execution_count": 31,
   "metadata": {},
   "outputs": [],
   "source": [
    "data['是否开通了多线业务'].replace('No phone service','No',inplace=True)\n",
    "col=['是否开通网络安全服务','是否开通在线备份业务','是否开通了设备保护业务',\n",
    "     '是否开通了技术支持服务','是否开通网络电视','是否开通网络电影']\n",
    "for i in col:\n",
    "    data[i].replace('No internet service','No',inplace=True)"
   ]
  },
  {
   "cell_type": "markdown",
   "metadata": {},
   "source": [
    "观察数据类型，发现除了“客户的入网时间”、“月费用”、“总费用”是连续型特征，其余基本是离散型特征，对于离散型特征，特征之间没有大小关系，采用one-hot编码，特征之间有大小关系，采用数值映射。"
   ]
  },
  {
   "cell_type": "code",
   "execution_count": 32,
   "metadata": {},
   "outputs": [],
   "source": [
    "clos=data[data.columns[data.dtypes==object]].copy()\n",
    "for i in clos.columns:\n",
    "    if clos[i].nunique()==2:\n",
    "        clos[i]=pd.factorize(clos[i])[0]\n",
    "    else:\n",
    "        clos=pd.get_dummies(clos,columns=[i])\n",
    "clos['老年人']=data['老年人']\n",
    "clos['月费用']=data['月费用']\n",
    "clos['总费用']=data['总费用']\n",
    "clos['客户的入网时间']=data['客户的入网时间']"
   ]
  },
  {
   "cell_type": "markdown",
   "metadata": {},
   "source": [
    "划分特征和标签。"
   ]
  },
  {
   "cell_type": "code",
   "execution_count": 33,
   "metadata": {},
   "outputs": [],
   "source": [
    "X=clos.iloc[:,clos.columns!='该用户是否流失']\n",
    "y=clos.iloc[:,clos.columns=='该用户是否流失'].values.ravel()"
   ]
  },
  {
   "cell_type": "markdown",
   "metadata": {},
   "source": [
    "样本平衡处理：采用的是过采样SMOTE算法，其主要原理是通过插值的方式插入近邻的数据点。"
   ]
  },
  {
   "cell_type": "code",
   "execution_count": 37,
   "metadata": {},
   "outputs": [
    {
     "name": "stdout",
     "output_type": "stream",
     "text": [
      "样本个数:7043,1占:26.54%,0占:73.46%\n",
      "样本个数:10348,1占:50.00%,0占:50.00%\n"
     ]
    }
   ],
   "source": [
    "print('样本个数:{},1占:{:.2%},0占:{:.2%}'.format(X.shape[0],y.sum()/X.shape[0],(X.shape[0]-y.sum())/X.shape[0]))\n",
    "smote=SMOTE(random_state=10)\n",
    "over_X,over_y=smote.fit_sample(X,y)\n",
    "print('样本个数:{},1占:{:.2%},0占:{:.2%}'.format(over_X.shape[0],over_y.sum()/over_X.shape[0],(over_X.shape[0]-over_y.sum())/over_X.shape[0]))"
   ]
  },
  {
   "cell_type": "markdown",
   "metadata": {},
   "source": [
    "### 模型预测"
   ]
  },
  {
   "cell_type": "markdown",
   "metadata": {},
   "source": [
    "划分训练集测试集。"
   ]
  },
  {
   "cell_type": "code",
   "execution_count": 63,
   "metadata": {},
   "outputs": [],
   "source": [
    "Xtrain,Xtest,ytrain,ytest=train_test_split(over_X,over_y,test_size=0.3,random_state=10)"
   ]
  },
  {
   "cell_type": "markdown",
   "metadata": {},
   "source": [
    "采用决策树、随机森林、K近邻、逻辑回归四个模型。观察模型的准确度、精确度、召回率、f1。"
   ]
  },
  {
   "cell_type": "code",
   "execution_count": 64,
   "metadata": {},
   "outputs": [
    {
     "name": "stdout",
     "output_type": "stream",
     "text": [
      "DecisionTreeClassifier(random_state=120) \n",
      " \n",
      "               precision    recall  f1-score   support\n",
      "\n",
      "           0       0.82      0.80      0.81      1581\n",
      "           1       0.80      0.82      0.81      1524\n",
      "\n",
      "    accuracy                           0.81      3105\n",
      "   macro avg       0.81      0.81      0.81      3105\n",
      "weighted avg       0.81      0.81      0.81      3105\n",
      " \n",
      " \n",
      " Precision Score: 0.7992327365728901 \n",
      " Accuracy Score:: 0.8106280193236715 \n",
      "\n",
      "\n",
      "RandomForestClassifier(random_state=120) \n",
      " \n",
      "               precision    recall  f1-score   support\n",
      "\n",
      "           0       0.84      0.86      0.85      1581\n",
      "           1       0.85      0.84      0.84      1524\n",
      "\n",
      "    accuracy                           0.85      3105\n",
      "   macro avg       0.85      0.85      0.85      3105\n",
      "weighted avg       0.85      0.85      0.85      3105\n",
      " \n",
      " \n",
      " Precision Score: 0.8488681757656458 \n",
      " Accuracy Score:: 0.8466988727858293 \n",
      "\n",
      "\n",
      "KNeighborsClassifier() \n",
      " \n",
      "               precision    recall  f1-score   support\n",
      "\n",
      "           0       0.82      0.70      0.75      1581\n",
      "           1       0.73      0.84      0.78      1524\n",
      "\n",
      "    accuracy                           0.77      3105\n",
      "   macro avg       0.77      0.77      0.77      3105\n",
      "weighted avg       0.77      0.77      0.77      3105\n",
      " \n",
      " \n",
      " Precision Score: 0.7270668176670442 \n",
      " Accuracy Score:: 0.7674718196457327 \n",
      "\n",
      "\n",
      "LogisticRegression(max_iter=1000) \n",
      " \n",
      "               precision    recall  f1-score   support\n",
      "\n",
      "           0       0.85      0.85      0.85      1581\n",
      "           1       0.84      0.85      0.85      1524\n",
      "\n",
      "    accuracy                           0.85      3105\n",
      "   macro avg       0.85      0.85      0.85      3105\n",
      "weighted avg       0.85      0.85      0.85      3105\n",
      " \n",
      " \n",
      " Precision Score: 0.8432397126061397 \n",
      " Accuracy Score:: 0.8476650563607085 \n",
      "\n",
      "\n"
     ]
    }
   ],
   "source": [
    "model=[DecisionTreeClassifier(random_state=120)\n",
    "      , RandomForestClassifier(random_state=120)\n",
    "      ,KNeighborsClassifier()\n",
    "      , LogisticRegression(max_iter=1000)]\n",
    "for clf in model:\n",
    "    clf.fit(Xtrain,ytrain)\n",
    "    y_pre=clf.predict(Xtest)\n",
    "    precision = precision_score(ytest, y_pre) \n",
    "    accuracy = accuracy_score(ytest, y_pre)\n",
    "    \n",
    "    print(clf,'\\n \\n',classification_report(ytest,y_pre)\n",
    "         ,'\\n \\n Precision Score:', precision\n",
    "         ,'\\n Accuracy Score::',accuracy\n",
    "          ,'\\n\\n')"
   ]
  },
  {
   "cell_type": "markdown",
   "metadata": {},
   "source": [
    "画出模型的学习曲线，观察模型的拟合情况。"
   ]
  },
  {
   "cell_type": "code",
   "execution_count": 65,
   "metadata": {},
   "outputs": [
    {
     "name": "stderr",
     "output_type": "stream",
     "text": [
      "F:\\anaconda3\\lib\\site-packages\\sklearn\\model_selection\\_validation.py:614: FitFailedWarning: Estimator fit failed. The score on this train-test partition for these parameters will be set to nan. Details: \n",
      "Traceback (most recent call last):\n",
      "  File \"F:\\anaconda3\\lib\\site-packages\\sklearn\\model_selection\\_validation.py\", line 593, in _fit_and_score\n",
      "    estimator.fit(X_train, y_train, **fit_params)\n",
      "  File \"F:\\anaconda3\\lib\\site-packages\\sklearn\\linear_model\\_logistic.py\", line 1376, in fit\n",
      "    \" class: %r\" % classes_[0])\n",
      "ValueError: This solver needs samples of at least 2 classes in the data, but the data contains only one class: 0\n",
      "\n",
      "  FitFailedWarning)\n"
     ]
    },
    {
     "data": {
      "text/plain": [
       "<matplotlib.legend.Legend at 0x1701547f8d0>"
      ]
     },
     "execution_count": 65,
     "metadata": {},
     "output_type": "execute_result"
    },
    {
     "data": {
      "image/png": "[encoded data removed]",
      "text/plain": [
       "<Figure size 2160x288 with 4 Axes>"
      ]
     },
     "metadata": {
      "needs_background": "light"
     },
     "output_type": "display_data"
    }
   ],
   "source": [
    "figure,ax=plt.subplots(1,4,figsize=(30,4))\n",
    "for i in range(4):\n",
    "    train_sizes, train_scores, valid_scores=learning_curve(model[i],over_X,over_y, cv=5,random_state=10)\n",
    "    train_std=train_scores.mean(axis=1)\n",
    "    test_std=valid_scores.mean(axis=1)\n",
    "    ax[i].plot(train_sizes,train_std,color='red',label='train_scores')\n",
    "    ax[i].plot(train_sizes,test_std,color='blue',label='test_scores')\n",
    "plt.legend()"
   ]
  },
  {
   "cell_type": "markdown",
   "metadata": {},
   "source": [
    "从结果来看，随机森林模型预测的准确度、精度、以及f1分数较高，但是却有严重的过拟合。接下来利用网格搜索调整随机森林的参数，降低过拟合。"
   ]
  },
  {
   "cell_type": "code",
   "execution_count": 69,
   "metadata": {},
   "outputs": [
    {
     "name": "stdout",
     "output_type": "stream",
     "text": [
      "best_params: {'max_depth': 9, 'n_estimators': 1200} \n",
      " \n",
      "best_score:  0.8403972638779269\n"
     ]
    }
   ],
   "source": [
    "param_grid  = { \n",
    "                'n_estimators' : [500,1200],\n",
    "#                'min_samples_split': [2,5,10,15],\n",
    "#                'min_samples_leaf': [1,2,5,10],\n",
    "                'max_depth': range(1,10,2),\n",
    "#                 'max_features' : ('log2', 'sqrt'),\n",
    "              }\n",
    "rfc=RandomForestClassifier(random_state=120)\n",
    "gridsearch = GridSearchCV(estimator =rfc, param_grid=param_grid,cv=5)\n",
    "gridsearch.fit(Xtrain,ytrain)\n",
    "print('best_params:',gridsearch.best_params_\n",
    "      ,'\\n \\nbest_score: ',gridsearch.best_score_)"
   ]
  },
  {
   "cell_type": "code",
   "execution_count": 70,
   "metadata": {},
   "outputs": [
    {
     "data": {
      "text/plain": [
       "<matplotlib.legend.Legend at 0x1701577f588>"
      ]
     },
     "execution_count": 70,
     "metadata": {},
     "output_type": "execute_result"
    },
    {
     "data": {
      "image/png": "[encoded data removed]",
      "text/plain": [
       "<Figure size 432x288 with 1 Axes>"
      ]
     },
     "metadata": {
      "needs_background": "light"
     },
     "output_type": "display_data"
    }
   ],
   "source": [
    "rfc=RandomForestClassifier(random_state=120,max_depth=9, n_estimators= 500)\n",
    "train_sizes, train_scores, valid_scores=learning_curve(rfc,over_X,over_y, cv=5,random_state=10)\n",
    "train_std=train_scores.mean(axis=1)\n",
    "test_std=valid_scores.mean(axis=1)\n",
    "plt.plot(train_sizes,train_std,color='red',label='train_scores')\n",
    "plt.plot(train_sizes,test_std,color='blue',label='test_scores')\n",
    "plt.legend()"
   ]
  },
  {
   "cell_type": "markdown",
   "metadata": {},
   "source": [
    "经过参数的调整，过拟合的情况已经明显降低了，计算F1的值。"
   ]
  },
  {
   "cell_type": "code",
   "execution_count": 73,
   "metadata": {},
   "outputs": [
    {
     "data": {
      "text/plain": [
       "0.8468125594671742"
      ]
     },
     "execution_count": 73,
     "metadata": {},
     "output_type": "execute_result"
    }
   ],
   "source": [
    "rfc=RandomForestClassifier(random_state=120,max_depth=9, n_estimators= 500)\n",
    "rfc.fit(Xtrain,ytrain)\n",
    "y_pre=rfc.predict(Xtest)\n",
    "f1_score(ytest,y_pre)"
   ]
  },
  {
   "cell_type": "markdown",
   "metadata": {},
   "source": [
    "### 特征重要性\n",
    "查看特征的重要性并排序。"
   ]
  },
  {
   "cell_type": "code",
   "execution_count": 74,
   "metadata": {},
   "outputs": [
    {
     "data": {
      "text/html": [
       "<div>\n",
       "<style scoped>\n",
       "    .dataframe tbody tr th:only-of-type {\n",
       "        vertical-align: middle;\n",
       "    }\n",
       "\n",
       "    .dataframe tbody tr th {\n",
       "        vertical-align: top;\n",
       "    }\n",
       "\n",
       "    .dataframe thead th {\n",
       "        text-align: right;\n",
       "    }\n",
       "</style>\n",
       "<table border=\"1\" class=\"dataframe\">\n",
       "  <thead>\n",
       "    <tr style=\"text-align: right;\">\n",
       "      <th></th>\n",
       "      <th>0</th>\n",
       "      <th>feature</th>\n",
       "    </tr>\n",
       "  </thead>\n",
       "  <tbody>\n",
       "    <tr>\n",
       "      <th>0</th>\n",
       "      <td>0.111559</td>\n",
       "      <td>客户的入网时间</td>\n",
       "    </tr>\n",
       "    <tr>\n",
       "      <th>1</th>\n",
       "      <td>0.106711</td>\n",
       "      <td>签订合同年限_Two year</td>\n",
       "    </tr>\n",
       "    <tr>\n",
       "      <th>2</th>\n",
       "      <td>0.092884</td>\n",
       "      <td>签订合同年限_Month-to-month</td>\n",
       "    </tr>\n",
       "    <tr>\n",
       "      <th>3</th>\n",
       "      <td>0.081950</td>\n",
       "      <td>是否开通电子账单</td>\n",
       "    </tr>\n",
       "    <tr>\n",
       "      <th>4</th>\n",
       "      <td>0.079494</td>\n",
       "      <td>月费用</td>\n",
       "    </tr>\n",
       "    <tr>\n",
       "      <th>5</th>\n",
       "      <td>0.073327</td>\n",
       "      <td>总费用</td>\n",
       "    </tr>\n",
       "    <tr>\n",
       "      <th>6</th>\n",
       "      <td>0.068580</td>\n",
       "      <td>是否开通网络安全服务</td>\n",
       "    </tr>\n",
       "    <tr>\n",
       "      <th>7</th>\n",
       "      <td>0.061638</td>\n",
       "      <td>签订合同年限_One year</td>\n",
       "    </tr>\n",
       "    <tr>\n",
       "      <th>8</th>\n",
       "      <td>0.044283</td>\n",
       "      <td>是否开通了技术支持服务</td>\n",
       "    </tr>\n",
       "    <tr>\n",
       "      <th>9</th>\n",
       "      <td>0.041740</td>\n",
       "      <td>是否经济独立</td>\n",
       "    </tr>\n",
       "    <tr>\n",
       "      <th>10</th>\n",
       "      <td>0.037372</td>\n",
       "      <td>是否开通互联网服务_Fiber optic</td>\n",
       "    </tr>\n",
       "    <tr>\n",
       "      <th>11</th>\n",
       "      <td>0.036938</td>\n",
       "      <td>是否开通互联网服务_No</td>\n",
       "    </tr>\n",
       "    <tr>\n",
       "      <th>12</th>\n",
       "      <td>0.029964</td>\n",
       "      <td>付款方式_Bank transfer (automatic)</td>\n",
       "    </tr>\n",
       "    <tr>\n",
       "      <th>13</th>\n",
       "      <td>0.028312</td>\n",
       "      <td>付款方式_Credit card (automatic)</td>\n",
       "    </tr>\n",
       "    <tr>\n",
       "      <th>14</th>\n",
       "      <td>0.020325</td>\n",
       "      <td>是否开通互联网服务_DSL</td>\n",
       "    </tr>\n",
       "    <tr>\n",
       "      <th>15</th>\n",
       "      <td>0.015525</td>\n",
       "      <td>付款方式_Mailed check</td>\n",
       "    </tr>\n",
       "    <tr>\n",
       "      <th>16</th>\n",
       "      <td>0.011023</td>\n",
       "      <td>是否开通了设备保护业务</td>\n",
       "    </tr>\n",
       "    <tr>\n",
       "      <th>17</th>\n",
       "      <td>0.010038</td>\n",
       "      <td>性别</td>\n",
       "    </tr>\n",
       "    <tr>\n",
       "      <th>18</th>\n",
       "      <td>0.008497</td>\n",
       "      <td>是否有配偶</td>\n",
       "    </tr>\n",
       "    <tr>\n",
       "      <th>19</th>\n",
       "      <td>0.007764</td>\n",
       "      <td>付款方式_Electronic check</td>\n",
       "    </tr>\n",
       "    <tr>\n",
       "      <th>20</th>\n",
       "      <td>0.006338</td>\n",
       "      <td>是否开通在线备份业务</td>\n",
       "    </tr>\n",
       "    <tr>\n",
       "      <th>21</th>\n",
       "      <td>0.005683</td>\n",
       "      <td>是否开通网络电视</td>\n",
       "    </tr>\n",
       "    <tr>\n",
       "      <th>22</th>\n",
       "      <td>0.005401</td>\n",
       "      <td>老年人</td>\n",
       "    </tr>\n",
       "    <tr>\n",
       "      <th>23</th>\n",
       "      <td>0.005206</td>\n",
       "      <td>是否开通了多线业务</td>\n",
       "    </tr>\n",
       "    <tr>\n",
       "      <th>24</th>\n",
       "      <td>0.005006</td>\n",
       "      <td>是否开通网络电影</td>\n",
       "    </tr>\n",
       "    <tr>\n",
       "      <th>25</th>\n",
       "      <td>0.004442</td>\n",
       "      <td>是否开通电话服务业务</td>\n",
       "    </tr>\n",
       "  </tbody>\n",
       "</table>\n",
       "</div>"
      ],
      "text/plain": [
       "           0                         feature\n",
       "0   0.111559                         客户的入网时间\n",
       "1   0.106711                 签订合同年限_Two year\n",
       "2   0.092884           签订合同年限_Month-to-month\n",
       "3   0.081950                        是否开通电子账单\n",
       "4   0.079494                             月费用\n",
       "5   0.073327                             总费用\n",
       "6   0.068580                      是否开通网络安全服务\n",
       "7   0.061638                 签订合同年限_One year\n",
       "8   0.044283                     是否开通了技术支持服务\n",
       "9   0.041740                          是否经济独立\n",
       "10  0.037372           是否开通互联网服务_Fiber optic\n",
       "11  0.036938                    是否开通互联网服务_No\n",
       "12  0.029964  付款方式_Bank transfer (automatic)\n",
       "13  0.028312    付款方式_Credit card (automatic)\n",
       "14  0.020325                   是否开通互联网服务_DSL\n",
       "15  0.015525               付款方式_Mailed check\n",
       "16  0.011023                     是否开通了设备保护业务\n",
       "17  0.010038                              性别\n",
       "18  0.008497                           是否有配偶\n",
       "19  0.007764           付款方式_Electronic check\n",
       "20  0.006338                      是否开通在线备份业务\n",
       "21  0.005683                        是否开通网络电视\n",
       "22  0.005401                             老年人\n",
       "23  0.005206                       是否开通了多线业务\n",
       "24  0.005006                        是否开通网络电影\n",
       "25  0.004442                      是否开通电话服务业务"
      ]
     },
     "execution_count": 74,
     "metadata": {},
     "output_type": "execute_result"
    }
   ],
   "source": [
    "fea_import=pd.DataFrame(rfc.feature_importances_)\n",
    "fea_import['feature']=list(Xtrain)\n",
    "fea_import.sort_values(0,ascending=False,inplace=True)\n",
    "fea_import.reset_index(drop=True,inplace=True)\n",
    "fea_import"
   ]
  },
  {
   "cell_type": "markdown",
   "metadata": {},
   "source": [
    "将其可视化。"
   ]
  },
  {
   "cell_type": "code",
   "execution_count": 75,
   "metadata": {},
   "outputs": [
    {
     "data": {
      "text/plain": [
       "Text(0.5, 1.0, 'Random Forest')"
      ]
     },
     "execution_count": 75,
     "metadata": {},
     "output_type": "execute_result"
    },
    {
     "data": {
      "image/png": "[encoded data removed]",
      "text/plain": [
       "<Figure size 864x576 with 1 Axes>"
      ]
     },
     "metadata": {
      "needs_background": "light"
     },
     "output_type": "display_data"
    }
   ],
   "source": [
    "figuer,ax=plt.subplots(figsize=(12,8))\n",
    "g=sns.barplot(0,'feature',data=fea_import)\n",
    "g.set_xlabel('Weight')\n",
    "g.set_title('Random Forest')"
   ]
  },
  {
   "cell_type": "markdown",
   "metadata": {},
   "source": [
    "## 分析建议"
   ]
  },
  {
   "cell_type": "markdown",
   "metadata": {},
   "source": [
    "针对上述分析，从业务角度给出建议：\n",
    "\n",
    "- 根据预测模型，构建一个高流失率的用户列表。通过用户调研推出一个最小可行化产品功能，并要求种子用户进行试用。\n",
    "- 用户方面：针对老年用户、无亲属无伴侣用户，制定专属的个性化服务如推出亲属套餐、温暖套餐等，提升用户的体验度。\n",
    "- 服务方面：针对新注册用户，推送半年优惠比如赠送消费券，以此渡过用户的流失高峰期。针对光纤用户和附加网络电视、电影用户，重点在于提升网络体验、增值服务体验，例如对用户承诺免费网络升级服务。针对在线安全、在线备份、设备保护、技术支持等增值服务，应重点对用户进行推广介绍，如首月/半年免费体验。\n",
    "- 合同方面：针对单月合同用户，建议推出半年合同付费折扣活动，将月用户转化为半年用户，提高用户的在网时长，增加用户的黏性。针对采用电子支票的用户，建议推送其他的支付方式的优惠券，引导用户改变支付方式。"
   ]
  },
  {
   "cell_type": "code",
   "execution_count": null,
   "metadata": {},
   "outputs": [],
   "source": []
  }
 ],
 "metadata": {
  "kernelspec": {
   "display_name": "Python 3",
   "language": "python",
   "name": "python3"
  },
  "language_info": {
   "codemirror_mode": {
    "name": "ipython",
    "version": 3
   },
   "file_extension": ".py",
   "mimetype": "text/x-python",
   "name": "python",
   "nbconvert_exporter": "python",
   "pygments_lexer": "ipython3",
   "version": "3.7.3"
  }
 },
 "nbformat": 4,
 "nbformat_minor": 2
}
